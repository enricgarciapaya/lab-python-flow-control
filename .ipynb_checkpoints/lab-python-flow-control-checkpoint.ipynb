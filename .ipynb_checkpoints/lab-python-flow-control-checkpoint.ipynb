{
 "cells": [
  {
   "cell_type": "markdown",
   "id": "d3bfc191-8885-42ee-b0a0-bbab867c6f9f",
   "metadata": {
    "tags": []
   },
   "source": [
    "# Lab | Flow Control"
   ]
  },
  {
   "cell_type": "markdown",
   "id": "3851fcd1-cf98-4653-9c89-e003b7ec9400",
   "metadata": {},
   "source": [
    "## Exercise: Managing Customer Orders Optimized\n",
    "\n",
    "In the last lab, you were starting an online store that sells various products. To ensure smooth operations, you developed a program that manages customer orders and inventory.\n",
    "\n",
    "You did so without using flow control. Let's go a step further and improve this code.\n",
    "\n",
    "Follow the steps below to complete the exercise:\n",
    "\n",
    "1. Look at your code from the lab data structures, and improve repeated code with loops.\n",
    "\n",
    "2. Instead of asking the user to input the name of three products that a customer wants to order, do the following:\n",
    "    \n",
    "    a. Prompt the user to enter the name of a product that a customer wants to order.\n",
    "    \n",
    "    b. Add the product name to the \"customer_orders\" set.\n",
    "    \n",
    "    c. Ask the user if they want to add another product (yes/no).\n",
    "    \n",
    "    d. Continue the loop until the user does not want to add another product.\n",
    "\n",
    "3. Instead of updating the inventory by subtracting 1 from the quantity of each product, only do it for  the products that were ordered (those in \"customer_orders\")."
   ]
  },
  {
   "cell_type": "code",
   "execution_count": 5,
   "id": "75ada1cd",
   "metadata": {},
   "outputs": [],
   "source": [
    "products=[\"t-shirt\", \"mug\", \"hat\", \"book\", \"keychain\"]"
   ]
  },
  {
   "cell_type": "code",
   "execution_count": 6,
   "id": "e29bf756",
   "metadata": {},
   "outputs": [],
   "source": [
    "inventory={}"
   ]
  },
  {
   "cell_type": "code",
   "execution_count": 7,
   "id": "3587b7b8",
   "metadata": {},
   "outputs": [
    {
     "name": "stdout",
     "output_type": "stream",
     "text": [
      "Please input the quantity available for each t-shirt: 10\n",
      "Please input the quantity available for each mug: 11\n",
      "Please input the quantity available for each hat: 12\n",
      "Please input the quantity available for each book: 13\n",
      "Please input the quantity available for each keychain: 14\n",
      "{'t-shirt': 10, 'mug': 11, 'hat': 12, 'book': 13, 'keychain': 14}\n"
     ]
    }
   ],
   "source": [
    "for product_key in products:\n",
    "    inventory[product_key] = int(input(f\"Please input the quantity available for each {product_key}: \"))\n",
    "\n",
    "print( inventory)"
   ]
  },
  {
   "cell_type": "code",
   "execution_count": null,
   "id": "7e97512c",
   "metadata": {},
   "outputs": [],
   "source": [
    "# 2i  nstead of asking the user to input the name of three products that a customer wants to order, do the following:"
   ]
  },
  {
   "cell_type": "code",
   "execution_count": null,
   "id": "b2310981",
   "metadata": {},
   "outputs": [],
   "source": []
  },
  {
   "cell_type": "code",
   "execution_count": null,
   "id": "1539b1a5",
   "metadata": {},
   "outputs": [],
   "source": []
  },
  {
   "cell_type": "code",
   "execution_count": 3,
   "id": "559c45b8",
   "metadata": {},
   "outputs": [
    {
     "name": "stdout",
     "output_type": "stream",
     "text": [
      "enter the name of a prod tea\n",
      " do want to add another product? please insert (yes/no) tes\n",
      "Invalid input. Please enter 'yes' or 'no'.\n",
      " do want to add another product? please insert (yes/no) yes\n",
      "enter the name of a prod beef\n",
      " do want to add another product? please insert (yes/no) yes\n",
      "enter the name of a prod banana\n",
      " do want to add another product? please insert (yes/no) no\n"
     ]
    }
   ],
   "source": [
    "# a) Prompt the user to enter the name of a product that a customer wants to order.\n",
    "customer_orders=set()\n",
    "product_name=input(\"enter the name of a prod \")\n",
    "#b). Add the product name to the \"customer_orders\" set.\n",
    "customer_orders.add(product_name)\n",
    "#c). Ask the user if they want to add another product (yes/no).\n",
    "while True:\n",
    "    product_name_y_n=input(\" do want to add another product? please insert (yes/no) \").lower() #c. Ask the user if they want to add another product (yes/no).\n",
    "    if product_name_y_n==\"yes\": \n",
    "        product_name=input(\"enter the name of a prod \")\n",
    "        customer_orders.add(product_name)\n",
    "    elif product_name_y_n==\"no\":\n",
    "        break\n",
    "    else:\n",
    "        print(\"Invalid input. Please enter 'yes' or 'no'.\")    \n",
    "#d. Continue the loop until the user does not want to add another product.\n",
    "           "
   ]
  },
  {
   "cell_type": "code",
   "execution_count": 4,
   "id": "e98d6866",
   "metadata": {},
   "outputs": [
    {
     "data": {
      "text/plain": [
       "{'banana', 'beef', 'tea'}"
      ]
     },
     "execution_count": 4,
     "metadata": {},
     "output_type": "execute_result"
    }
   ],
   "source": [
    "customer_orders"
   ]
  },
  {
   "cell_type": "code",
   "execution_count": 19,
   "id": "61b2081e",
   "metadata": {},
   "outputs": [
    {
     "name": "stdout",
     "output_type": "stream",
     "text": [
      "Please input the quantity available for each tea: 10\n",
      "Please input the quantity available for each beef: 20\n",
      "Please input the quantity available for each banana: 30\n",
      "{'t-shirt': 10, 'mug': 11, 'hat': 12, 'book': 13, 'keychain': 14, 'tea': 10, 'beef': 20, 'banana': 30}\n",
      "Updated inventory with substracted values  {'t-shirt': 10, 'mug': 11, 'hat': 12, 'book': 13, 'keychain': 14, 'tea': 9, 'beef': 19, 'banana': 29}\n"
     ]
    }
   ],
   "source": [
    "#3)instead of updating the inventory by subtracting 1 from the quantity of each product, only do it for the products that were ordered (those in \"customer_orders\").\n",
    "#_3.1)we need to figure  how to make the dictionary append the keys from a set,\n",
    "#_3.2) add the values to the new keys coming from customer_orders\n",
    "for product_key in customer_orders:\n",
    "    inventory[product_key]=int(input(f\"Please input the quantity available for each {product_key}: \"))\n",
    "print(inventory)\n",
    "# and then substract 1 \n",
    "for product_key in customer_orders:\n",
    "    if product_key in inventory:\n",
    "        inventory[product_key] -= 1\n",
    "print(f\"Updated inventory with substracted values \",inventory)"
   ]
  },
  {
   "cell_type": "code",
   "execution_count": 20,
   "id": "1a61c67b",
   "metadata": {},
   "outputs": [
    {
     "name": "stdout",
     "output_type": "stream",
     "text": [
      "Please input the quantity available for each tea: 10\n",
      "Please input the quantity available for each beef: 20\n",
      "Please input the quantity available for each banana: 30\n"
     ]
    }
   ],
   "source": [
    "for product_key in customer_orders:\n",
    "    inventory[product_key]=int(input(f\"Please input the quantity available for each {product_key}: \"))\n",
    "    if product_key in inventory:\n",
    "        inventory[product_key] -= 1"
   ]
  },
  {
   "cell_type": "code",
   "execution_count": 21,
   "id": "0d6fcd53",
   "metadata": {},
   "outputs": [
    {
     "name": "stdout",
     "output_type": "stream",
     "text": [
      "Updated inventory with substracted values  {'t-shirt': 10, 'mug': 11, 'hat': 12, 'book': 13, 'keychain': 14, 'tea': 9, 'beef': 19, 'banana': 29}\n"
     ]
    }
   ],
   "source": [
    "print(f\"Updated inventory with substracted values \",inventory)\n"
   ]
  },
  {
   "cell_type": "code",
   "execution_count": null,
   "id": "b1ca1f1d",
   "metadata": {},
   "outputs": [],
   "source": []
  }
 ],
 "metadata": {
  "kernelspec": {
   "display_name": "Python 3 (ipykernel)",
   "language": "python",
   "name": "python3"
  },
  "language_info": {
   "codemirror_mode": {
    "name": "ipython",
    "version": 3
   },
   "file_extension": ".py",
   "mimetype": "text/x-python",
   "name": "python",
   "nbconvert_exporter": "python",
   "pygments_lexer": "ipython3",
   "version": "3.11.5"
  }
 },
 "nbformat": 4,
 "nbformat_minor": 5
}
